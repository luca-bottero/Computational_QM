{
 "cells": [
  {
   "cell_type": "markdown",
   "metadata": {},
   "source": [
    "## Hartree's method to calculate He energy and wavefunction\n",
    "\n",
    "\n",
    "We start writing the Schrodinger equation: $$\\large \\hat{H}\\psi(\\bar{r_1},\\bar{r_2}) = E\\psi(\\bar{r_1},\\bar{r_2})$$\n",
    "where $$\\large \\hat{H} = -\\frac{\\hbar^2}{2m}\\nabla^2_1 -\\frac{\\hbar^2}{2m}\\nabla^2_2 - \\frac{Ze^2}{4\\pi\\epsilon_0 r_1} - \\frac{Ze^2}{4\\pi\\epsilon_0 r_2} + \\frac{e^2}{4\\pi\\epsilon_0 |r_1-r_2|}$$\n",
    "\n",
    "It is evident that this hamiltonian can be expressed as a sum os three different hamiltonian: $$\\large \\hat{H} = \\hat{H_1} + \\hat{H_2} + \\hat{H}_{12} $$\n",
    "where the first(second) term is the sum of the first(second) and third(fourth) term of the general hamiltonian and describes the interaction of the first(second) electron with the nucleus, while the last term is the repulsion potential between the two electrons. Therefore, if we consider $\\hat{H_{12}}$ negligible, the energy eigenvalue wuold be the sum of the two electron's energies in the hydrogenoid atom. However, the experimental evidence results in a very different value of the energy, outlining a non-vanishing interaction contribution to the total energy of the atom.\n",
    "\n",
    "The Hartree Method is a computational approach at solving this hamiltonian.\n",
    "We assume that hydrogen wavefunctions and energies are all we need to perform our calculations. In the hydrogenoid atom, the eigenfunctions are: $$\\large \\psi(r,\\theta, \\phi) = \\mathcal{R}_{n,l}(r)Y_{l,m_l}(\\theta, \\phi) $$ with eigenvalues $$\\large E_n = -E_{Ry}\\frac{Z^2}{n^2}$$\n",
    "We write our solution as $$\\large \\psi(\\bar{r_1},\\bar{r_2}) = \\psi_{\\alpha}(\\bar{r_1})\\psi_{\\beta}(\\bar{r_2})$$\n",
    "where $\\alpha$ and $\\beta$ are the electrons quantum numbers.\n",
    "\n",
    "We can write the expectation value of the potential energy energy for the first electron as $$\\large E_p(\\bar{r_1})= -\\frac{Ze^2}{4 pi\\epsilon_0r_1} + \\braket{E} $$\n",
    "where $\\braket{E}$ is the mean potential energy added to the first electron due to interaction with the second electron. We now calculate the expectation value of the last term of the hamiltonian for the second electron $$\\large \\begin{align*} \\braket{\\hat{H}_{12}} &= \\bra{\\psi_{\\beta}(\\bar{r_2})}\\frac{e^2}{4\\pi\\epsilon_0|\\bar{r_1}-\\bar{r_2}|}\\ket{\\psi_{\\beta}(\\bar{r_2})} \\\\ &= \\int d^3r_2 |\\psi_{\\beta}(\\bar{r_2})|^2\\frac{e^2}{4\\pi\\epsilon_0|\\bar{r_1}-\\bar{r_2}|}          \\end{align*} $$"
   ]
  },
  {
   "cell_type": "code",
   "execution_count": null,
   "metadata": {},
   "outputs": [],
   "source": [
    "# conversion from Hartree to eV\n",
    "eV = 27.2113966413442 # 1 Hartree = 2 Rydberg, Bohr radius a_0 = 1, electron mass = 1, h/4pi = 1\n",
    "\n"
   ]
  },
  {
   "cell_type": "code",
   "execution_count": 1,
   "metadata": {},
   "outputs": [],
   "source": [
    "import numpy as np\n",
    "import matplotlib.pyplot as plt\n",
    "from scipy import sparse, linalg\n",
    "from scipy.sparse import linalg as sla\n",
    "\n",
    "\n",
    "def schrodinger3D(xmin, xmax, Nx, \n",
    "                  ymin, ymax, Ny, \n",
    "                  zmin, zmax, Nz, \n",
    "                  Vfun3D, params, neigs, E0=0.0, findpsi=False):\n",
    "    \"\"\"\n",
    "    This function solves the 3 dimensional Schrodinger equation numerically.\n",
    "    \"\"\"\n",
    "    x = np.linspace(xmin, xmax, Nx)  \n",
    "    dx = x[1] - x[0]  \n",
    "    y = np.linspace(ymin, ymax, Ny)\n",
    "    dy = y[1] - y[0]\n",
    "    z = np.linspace(zmin, zmax, Nz)\n",
    "    dz = z[1] - z[0]\n",
    " \n",
    "    V = Vfun3D(x, y, z, params)\n",
    " \n",
    "    # create the 3D Hamiltonian matrix\n",
    "    Hx = create_hamiltonian(Nx, dx)\n",
    "    Hy = create_hamiltonian(Ny, dy)\n",
    "    Hz = create_hamiltonian(Nz, dz)\n",
    "     \n",
    "    Ix = sparse.eye(Nx)\n",
    "    Iy = sparse.eye(Ny)\n",
    "    Iz = sparse.eye(Nz)\n",
    "     \n",
    "    # Combine the 3 individual 1 dimensional Hamiltonians\n",
    "    # using Kronecker products\n",
    "    Hxy = sparse.kron(Iy, Hx) + sparse.kron(Hy, Ix)\n",
    "    Ixy = sparse.kron(Iy, Ix)\n",
    "    H = sparse.kron(Iz, Hxy) + sparse.kron(Hz, Ixy)\n",
    "     \n",
    "    # Convert to lil form and add potential energy function\n",
    "    H = H.tolil()\n",
    "    for i in range(Nx * Ny * Nz):\n",
    "        H[i, i] = H[i, i] + V[i]    \n",
    " \n",
    "    # convert to csc form and solve the eigenvalue problem\n",
    "    H = H.tocsc()  \n",
    "    [evl, evt] = sla.eigs(H, k=neigs, sigma=E0)\n",
    "             \n",
    "    if findpsi == False:\n",
    "        return evl\n",
    "    else: \n",
    "        return evl, evt, x, y, z\n",
    "     \n",
    "def create_hamiltonian(Nx, dx):\n",
    "    \"\"\"\n",
    "    This function creates a 1 dimensional numerical Hamiltonian.\n",
    "    \"\"\"\n",
    "    H = sparse.eye(Nx, Nx, format='lil') * 2\n",
    "    for i in range(Nx - 1):\n",
    "        H[i, i + 1] = -1\n",
    "        H[i + 1, i] = -1\n",
    "    H = H / (dx ** 2)  \n",
    "    return H"
   ]
  },
  {
   "cell_type": "code",
   "execution_count": 2,
   "metadata": {},
   "outputs": [],
   "source": [
    "def sho_eigenenergies(xmin = -5, xmax = 5, Nx = 50, ymin = -5, ymax = 5, Ny = 50, \n",
    "                      zmin = -5, zmax = 5, Nz = 50, params = [1, 1, 1], neigs = 1, E0 = 0):\n",
    "    \"\"\"\n",
    "    This function calculates the quantum simple harmonic oscillator eigenenergies.\n",
    "    Theoretically, the eigenenergies are given by: E = hw(n + 3/2), n = nx + ny + nz.\n",
    "    However, as we set h = w = 1, and we scale the energies during the Hamiltonian creation\n",
    "    by 2, the theoretical eigenenergies are given by: E = 2n + 3.\n",
    "    \"\"\"\n",
    "    def Vfun(X, Y, Z, params):\n",
    "        Nx = len(X)\n",
    "        Ny = len(Y)\n",
    "        Nz = len(Z)\n",
    "        M = Nx * Ny * Nz\n",
    "        V = np.zeros(M)\n",
    "        vindex = 0\n",
    "        for i in range(Nx):\n",
    "            for j in range(Ny):\n",
    "                for k in range(Nz):\n",
    "                    V[vindex] = params[0]*X[i] ** 2 + params[1]*Y[j] ** 2 + params[2]*Z[k] ** 2\n",
    "                    vindex = vindex + 1\n",
    "        return V\n",
    "     \n",
    "    # Only eigenvalues will be returned!\n",
    "    evl = schrodinger3D(xmin, xmax, Nx, ymin, ymax, Ny, zmin, zmax, Nz, Vfun, params, neigs, E0, False)\n",
    "     \n",
    "    indices = np.argsort(evl)\n",
    "    print(\"Energy eigenvalues:\")\n",
    "    for i,j in enumerate(evl[indices]):\n",
    "        print(\"{}: {:.2f}\".format(i + 1, np.real(j)))\n",
    "         \n",
    "    return sorted(evl)"
   ]
  },
  {
   "cell_type": "code",
   "execution_count": 3,
   "metadata": {},
   "outputs": [],
   "source": [
    "print(sho_eigenenergies())"
   ]
  },
  {
   "cell_type": "code",
   "execution_count": null,
   "metadata": {},
   "outputs": [],
   "source": []
  }
 ],
 "metadata": {
  "kernelspec": {
   "display_name": "Python 3.8.10 64-bit",
   "language": "python",
   "name": "python3"
  },
  "language_info": {
   "codemirror_mode": {
    "name": "ipython",
    "version": 3
   },
   "file_extension": ".py",
   "mimetype": "text/x-python",
   "name": "python",
   "nbconvert_exporter": "python",
   "pygments_lexer": "ipython3",
   "version": "3.8.10"
  },
  "orig_nbformat": 4,
  "vscode": {
   "interpreter": {
    "hash": "31f2aee4e71d21fbe5cf8b01ff0e069b9275f58929596ceb00d14d90e3e16cd6"
   }
  }
 },
 "nbformat": 4,
 "nbformat_minor": 2
}
