{
 "cells": [
  {
   "cell_type": "markdown",
   "metadata": {},
   "source": [
    "## 1-D Time Indipendent Schrodinger Equation\n",
    "For simplycity we take all numerical constants equal to one\n",
    "\n",
    "$$\\Large -\\frac{d^2 \\psi(x)}{dx^2} + V(x)\\psi(x) = E\\psi(x) $$\n",
    "\n",
    "This problem can be restated as a system of ODE:\n",
    "\n",
    "$$\\large \\frac{d \\psi_1(x)}{dx} = \\psi_2(x)$$\n",
    "$$\\large \\frac{d \\psi_2(x)}{dx} = -(E - V(x))\\psi_1(x)$$\n",
    "\n",
    "Scipy's ```solve_bvp``` needs boundary conditions in the form $\\psi(x_1) = \\psi(x_2) = 0$ for some $x_1$ and $x_2 \\in [a,b]$, where $a$ and $b$ are the extremes of the integration domain. This somewhat restricts the range of possible problems we can approach wth this method.\n",
    "\n",
    "Another problem is that we need to give the value of $E$ in advance. We can proceed with an iterative method: we define an interval $[E_{min}, E_{max}]$ in which we can reasonably expect to find the real energy of the solution. The trial energy is taken as the midpoint of the interval. We then solve the problem iteratively, adjusting the trial energy in a bisection-like manner, until the resulting wavefunction has exactly as many nodes as $n$ (the order of the solution we are interested in), a result known as \"Node Theorem\". The computational complexity of such a procedure is of course logarithmic in energy trials."
   ]
  },
  {
   "cell_type": "code",
   "execution_count": 10,
   "metadata": {},
   "outputs": [
    {
     "name": "stdout",
     "output_type": "stream",
     "text": [
      "Level 1 Energy 3.4136405339674374\n",
      "Level 2 Energy 13.476083439057865\n",
      "Level 3 Energy 29.45443173473915\n",
      "Level 4 Energy 48.260942644843915\n",
      "Level 5 Energy 54.49322973517068\n",
      "Level 6 Energy 57.48796764560538\n",
      "Level 7 Energy 66.18938749607112\n",
      "Level 8 Energy 73.06436315455764\n",
      "Level 9 Energy 82.17142054325815\n",
      "Level 10 Energy 99.02187116406185\n"
     ]
    },
    {
     "data": {
      "text/plain": [
       "'sol = solve_bvp(fun, bc, x, y_i, p=[6])\\nx_plot = np.linspace(-1.5, 1.5, 2000)\\ny_plot = sol.sol(x_plot)[0]\\n\\nplt.plot(x_plot, y_plot**2)\\nplt.xlabel(\"x\")\\nplt.ylabel(\"y\")\\nplt.show()'"
      ]
     },
     "execution_count": 10,
     "metadata": {},
     "output_type": "execute_result"
    }
   ],
   "source": [
    "import matplotlib.pyplot as plt\n",
    "from scipy.integrate import solve_bvp\n",
    "import numpy as np\n",
    "from scipy.signal import argrelextrema, argrelmin\n",
    "\n",
    "\n",
    "def V(x, V0=50, a=1):\n",
    "    if np.iterable(x):\n",
    "        return (np.abs(x) > a/2)*V0\n",
    "    elif np.abs(x) < a/2:\n",
    "        return 0\n",
    "    else:\n",
    "        return V0\n",
    "\n",
    "def fun(x, y, p):\n",
    "    E = p[0]\n",
    "    return np.vstack((y[1], -2*(E - V(x))*y[0]))\n",
    "\n",
    "def bc(ya, yb, p):\n",
    "    return np.array([ya[0], yb[0], ya[1] - 0.001])\n",
    "\n",
    "\n",
    "x = np.linspace(-1.5, 1.5, 11)\n",
    "x_plot = np.linspace(-1.5, 1.5, 2000)\n",
    "y_i = np.zeros((2, x.size))\n",
    "y_i[0,4] = 0.1\n",
    "\n",
    "E_min = 0.\n",
    "E_max = 4.\n",
    "\n",
    "energies = []\n",
    "\n",
    "for n in range(1,11):\n",
    "    converged = False\n",
    "    prec_E = 0.\n",
    "\n",
    "    while not converged:\n",
    "        E = (E_min + E_max)*0.5\n",
    "        sol = solve_bvp(fun, bc, x, y_i, p=[E])\n",
    "        try:\n",
    "            res = argrelmin(sol.sol(x_plot)[0]**2)[0]\n",
    "            res[0]\n",
    "            n_nodes = len(res) + 1\n",
    "        except:\n",
    "            n_nodes = 1\n",
    "\n",
    "        if n_nodes == n:\n",
    "            energies.append(sol.p[0])\n",
    "            converged = True\n",
    "            print('Level',n, 'Energy', sol.p[0])\n",
    "        elif n_nodes > n:\n",
    "            E_max = E\n",
    "        elif n_nodes < n:\n",
    "            E_min = E\n",
    "        \n",
    "        if np.abs(prec_E - E) < 1e-2:\n",
    "            if prec_E - E < 0:\n",
    "                E_max = energies[-1]**2.5\n",
    "            else:\n",
    "                E_min = energies[-1]\n",
    "        \n",
    "        #print(E,n,n_nodes, prec_E  -E)\n",
    "        prec_E = E\n",
    "    E_min = energies[-1]\n",
    "    E_max = E_min ** 2.5\n",
    "\n",
    "        \n",
    "\n",
    "\n",
    "'''sol = solve_bvp(fun, bc, x, y_i, p=[6])\n",
    "x_plot = np.linspace(-1.5, 1.5, 2000)\n",
    "y_plot = sol.sol(x_plot)[0]\n",
    "\n",
    "plt.plot(x_plot, y_plot**2)\n",
    "plt.xlabel(\"x\")\n",
    "plt.ylabel(\"y\")\n",
    "plt.show()'''"
   ]
  },
  {
   "cell_type": "markdown",
   "metadata": {},
   "source": [
    "However, this method fails because the number of nodes does not behave in a precise enough manner: our dicotomic search suffer from the fact that the number of nodes does not increase monotonically as the energy increases, leading to \"traps\" where the correct energy is never reached. This can be circumvencted by modifying the $E_{min}$ and $E_{max}$ update procedures.\n",
    "However, it is necessary to try a more robust (nad hopefully efficient) method to find the correct energy eigenvalue."
   ]
  },
  {
   "cell_type": "code",
   "execution_count": 13,
   "metadata": {},
   "outputs": [
    {
     "data": {
      "image/png": "[encoded data removed]",
      "text/plain": [
       "<Figure size 432x288 with 1 Axes>"
      ]
     },
     "metadata": {
      "needs_background": "light"
     },
     "output_type": "display_data"
    }
   ],
   "source": [
    "plt.plot(list(range(1,11)),energies)\n",
    "\n",
    "plt.xlabel('Energy level $n$')\n",
    "plt.ylabel('Energy (arb. units)')\n",
    "plt.title('Energy eigenvalues')\n",
    "plt.show()"
   ]
  },
  {
   "cell_type": "code",
   "execution_count": null,
   "metadata": {},
   "outputs": [],
   "source": []
  }
 ],
 "metadata": {
  "interpreter": {
   "hash": "31f2aee4e71d21fbe5cf8b01ff0e069b9275f58929596ceb00d14d90e3e16cd6"
  },
  "kernelspec": {
   "display_name": "Python 3.8.10 64-bit",
   "language": "python",
   "name": "python3"
  },
  "language_info": {
   "codemirror_mode": {
    "name": "ipython",
    "version": 3
   },
   "file_extension": ".py",
   "mimetype": "text/x-python",
   "name": "python",
   "nbconvert_exporter": "python",
   "pygments_lexer": "ipython3",
   "version": "3.8.10"
  },
  "orig_nbformat": 4
 },
 "nbformat": 4,
 "nbformat_minor": 2
}
