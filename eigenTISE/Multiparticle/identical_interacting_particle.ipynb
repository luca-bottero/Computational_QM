{
 "cells": [
  {
   "cell_type": "markdown",
   "metadata": {},
   "source": [
    "## 1-D interacting quantum particles\n",
    "\n",
    "This code solves the time-dependent Schrodinger equation: $$\\large \\frac{\\partial}{\\partial t}\\psi(x_{1},x_{2},t)\\;=\\;-iH\\psi(x_{1},x_{2},t)$$ where the hamiltonian $H$ is given by: $$\\large H=~-{\\frac{1}{2m_{1}}}{\\frac{\\partial^{2}}{\\partial x_{1}^{2}}}-{\\frac{1}{2m_{2}}}{\\frac{\\partial^{2}}{\\partial x_{2}^{2}}}+V(x_{1},x_{2})$$ where the reduced Planck constant has been set to one: $\\hslash = 1$.\n",
    "\n",
    "In particular, the potential $V(x_{1},x_{2})$ can be an *interaction potential*. Thus the dependence is usually proportional to the displacement vector $\\bold{r} = |x_1 - x_2|$. In the following cell the expression for the potential is: $$\\large V(x_{1},x_{2}) = -V_0e^{-\\frac{|x_1 - x_2|^2}{\\alpha^2}}$$\n",
    "with $V_0 = 5$ and $\\alpha=2$.\n",
    "\n",
    "Since this is an IVP (Initial Value Problem), we have to provide the starting wavefunction. We choose it as multiplication of two gaussian wavepackets:\n",
    "$$\\large \\psi(x_{1},x_{2},t=0)=e^{i k_{1}x_{1}}e^{-\\frac{(x_{1}-x_{1}^{0})^{2}}{4\\sigma^{2}}}\\times e^{i k_{2}x_{2}}e^{-\\frac{(x_{2}-x_{2}^{0})^{2}}{4\\sigma^{2}}}$$\n",
    "We consider two identical particles and set their masses equal to one $m_1 = m_2 = 1$\n",
    "\n",
    "N.B.: we have to talk about **one** wavefunction that describes both particles, not multiple wavefunctions (one for each particle). "
   ]
  },
  {
   "cell_type": "code",
   "execution_count": 1,
   "metadata": {},
   "outputs": [
    {
     "name": "stderr",
     "output_type": "stream",
     "text": [
      "/home/luca/.local/lib/python3.8/site-packages/matplotlib/__init__.py:152: DeprecationWarning: distutils Version classes are deprecated. Use packaging.version instead.\n",
      "  if LooseVersion(module.__version__) < minver:\n",
      "/home/luca/.local/lib/python3.8/site-packages/setuptools/_distutils/version.py:351: DeprecationWarning: distutils Version classes are deprecated. Use packaging.version instead.\n",
      "  other = LooseVersion(other)\n",
      "/home/luca/.local/lib/python3.8/site-packages/numba/np/arraymath.py:3845: DeprecationWarning: `np.MachAr` is deprecated (NumPy 1.22).\n",
      "  @overload(np.MachAr)\n"
     ]
    },
    {
     "data": {
      "application/vnd.jupyter.widget-view+json": {
       "model_id": "a86902b4159a42ef98ac6e47b061be94",
       "version_major": 2,
       "version_minor": 0
      },
      "text/plain": [
       "  0%|          | 0/126 [00:00<?, ?it/s]"
      ]
     },
     "metadata": {},
     "output_type": "display_data"
    },
    {
     "name": "stderr",
     "output_type": "stream",
     "text": [
      "Only the absolute value of complex data is shown\n",
      "Only the absolute value of complex data is shown\n",
      "Only the absolute value of complex data is shown\n",
      "Only the absolute value of complex data is shown\n",
      "Only the absolute value of complex data is shown\n",
      "Only the absolute value of complex data is shown\n",
      "Only the absolute value of complex data is shown\n",
      "Only the absolute value of complex data is shown\n",
      "Only the absolute value of complex data is shown\n",
      "Only the absolute value of complex data is shown\n",
      "Only the absolute value of complex data is shown\n",
      "Only the absolute value of complex data is shown\n",
      "Only the absolute value of complex data is shown\n",
      "Only the absolute value of complex data is shown\n",
      "Only the absolute value of complex data is shown\n",
      "Only the absolute value of complex data is shown\n",
      "Only the absolute value of complex data is shown\n",
      "Only the absolute value of complex data is shown\n",
      "Only the absolute value of complex data is shown\n",
      "Only the absolute value of complex data is shown\n",
      "Only the absolute value of complex data is shown\n",
      "Only the absolute value of complex data is shown\n",
      "Only the absolute value of complex data is shown\n",
      "Only the absolute value of complex data is shown\n",
      "Only the absolute value of complex data is shown\n",
      "Only the absolute value of complex data is shown\n",
      "Only the absolute value of complex data is shown\n",
      "Only the absolute value of complex data is shown\n",
      "Only the absolute value of complex data is shown\n",
      "Only the absolute value of complex data is shown\n",
      "Only the absolute value of complex data is shown\n",
      "Only the absolute value of complex data is shown\n",
      "Only the absolute value of complex data is shown\n",
      "Only the absolute value of complex data is shown\n",
      "Only the absolute value of complex data is shown\n",
      "Only the absolute value of complex data is shown\n",
      "Only the absolute value of complex data is shown\n",
      "Only the absolute value of complex data is shown\n",
      "Only the absolute value of complex data is shown\n",
      "Only the absolute value of complex data is shown\n",
      "Only the absolute value of complex data is shown\n",
      "Only the absolute value of complex data is shown\n",
      "Only the absolute value of complex data is shown\n",
      "Only the absolute value of complex data is shown\n",
      "Only the absolute value of complex data is shown\n",
      "Only the absolute value of complex data is shown\n",
      "Only the absolute value of complex data is shown\n",
      "Only the absolute value of complex data is shown\n",
      "Only the absolute value of complex data is shown\n",
      "Only the absolute value of complex data is shown\n",
      "Only the absolute value of complex data is shown\n",
      "Only the absolute value of complex data is shown\n",
      "Only the absolute value of complex data is shown\n",
      "Only the absolute value of complex data is shown\n",
      "Only the absolute value of complex data is shown\n",
      "Only the absolute value of complex data is shown\n",
      "Only the absolute value of complex data is shown\n",
      "Only the absolute value of complex data is shown\n",
      "Only the absolute value of complex data is shown\n",
      "Only the absolute value of complex data is shown\n",
      "Only the absolute value of complex data is shown\n",
      "Only the absolute value of complex data is shown\n",
      "Only the absolute value of complex data is shown\n",
      "Only the absolute value of complex data is shown\n",
      "Only the absolute value of complex data is shown\n",
      "Only the absolute value of complex data is shown\n",
      "Only the absolute value of complex data is shown\n",
      "Only the absolute value of complex data is shown\n",
      "Only the absolute value of complex data is shown\n",
      "Only the absolute value of complex data is shown\n",
      "Only the absolute value of complex data is shown\n",
      "Only the absolute value of complex data is shown\n",
      "Only the absolute value of complex data is shown\n",
      "Only the absolute value of complex data is shown\n",
      "Only the absolute value of complex data is shown\n",
      "Only the absolute value of complex data is shown\n",
      "Only the absolute value of complex data is shown\n",
      "Only the absolute value of complex data is shown\n",
      "Only the absolute value of complex data is shown\n",
      "Only the absolute value of complex data is shown\n",
      "Only the absolute value of complex data is shown\n",
      "Only the absolute value of complex data is shown\n",
      "Only the absolute value of complex data is shown\n",
      "Only the absolute value of complex data is shown\n",
      "Only the absolute value of complex data is shown\n",
      "Only the absolute value of complex data is shown\n",
      "Only the absolute value of complex data is shown\n",
      "Only the absolute value of complex data is shown\n",
      "Only the absolute value of complex data is shown\n",
      "Only the absolute value of complex data is shown\n",
      "Only the absolute value of complex data is shown\n",
      "Only the absolute value of complex data is shown\n",
      "Only the absolute value of complex data is shown\n",
      "Only the absolute value of complex data is shown\n",
      "Only the absolute value of complex data is shown\n",
      "Only the absolute value of complex data is shown\n",
      "Only the absolute value of complex data is shown\n",
      "Only the absolute value of complex data is shown\n",
      "Only the absolute value of complex data is shown\n",
      "Only the absolute value of complex data is shown\n",
      "Only the absolute value of complex data is shown\n",
      "Only the absolute value of complex data is shown\n",
      "Only the absolute value of complex data is shown\n",
      "Only the absolute value of complex data is shown\n",
      "Only the absolute value of complex data is shown\n",
      "Only the absolute value of complex data is shown\n",
      "Only the absolute value of complex data is shown\n",
      "Only the absolute value of complex data is shown\n",
      "Only the absolute value of complex data is shown\n",
      "Only the absolute value of complex data is shown\n",
      "Only the absolute value of complex data is shown\n",
      "Only the absolute value of complex data is shown\n",
      "Only the absolute value of complex data is shown\n",
      "Only the absolute value of complex data is shown\n",
      "Only the absolute value of complex data is shown\n",
      "Only the absolute value of complex data is shown\n",
      "Only the absolute value of complex data is shown\n",
      "Only the absolute value of complex data is shown\n",
      "Only the absolute value of complex data is shown\n",
      "Only the absolute value of complex data is shown\n",
      "Only the absolute value of complex data is shown\n",
      "Only the absolute value of complex data is shown\n",
      "Only the absolute value of complex data is shown\n",
      "Only the absolute value of complex data is shown\n",
      "Only the absolute value of complex data is shown\n",
      "Only the absolute value of complex data is shown\n"
     ]
    }
   ],
   "source": [
    "from math import sqrt\n",
    "import numpy as np\n",
    "from pde import PDE, CartesianGrid, MemoryStorage, ScalarField, plot_kymograph, movie, FieldCollection\n",
    "from pde import FieldCollection, PDEBase, UnitGrid, plot_kymographs\n",
    "\n",
    "\n",
    "grid = CartesianGrid([[0, 20],[0,20]], [100,100], periodic=False)  # generate grid\n",
    "\n",
    "# create a (normalized) wave packet with a certain form as an initial condition\n",
    "\n",
    "p1 = 'exp(I * x) * exp(-(x - 7.)**2)'\n",
    "p2 = 'exp(-I * y) * exp(-(y - 13.)**2)' \n",
    "\n",
    "particles = p1 + '*' + p2\n",
    "\n",
    "initial_state = ScalarField.from_expression(grid, particles)\n",
    "initial_state /= sqrt(initial_state.to_scalar(\"norm_squared\").integral.real)\n",
    "\n",
    "#grid = UnitGrid([32, 32])\n",
    "\n",
    "storage = MemoryStorage()\n",
    "\n",
    "user_funcs={\"get_x\": lambda arr: arr[0], \"get_y\": lambda arr: arr[1], 'abs': lambda i: np.abs(i), 'exp': lambda x: np.exp(x)}\n",
    "\n",
    "#eq = PDE({\"psi\": f\"I*get_x(gradient(get_x(gradient(psi))) ) + I*get_y(gradient(get_y(gradient(psi)))) + I*5.*exp(-abs(x-y)**2/4)*psi \"}, user_funcs=user_funcs) \n",
    "eq = PDE({\"psi\": f\"I*laplace(psi) + I*5.*exp(-abs(x-y)**2/4)*psi \"}, user_funcs=user_funcs) \n",
    "\n",
    "\n",
    "# solve the pde and store intermediate data\n",
    "storage = MemoryStorage()\n",
    "eq.solve(initial_state, t_range=2.5, dt=1e-5, tracker=[storage.tracker(0.02)])\n",
    "\n",
    "movie(storage, filename = './multiparticle.mp4', plot_args={'scalar':'norm_squared'})"
   ]
  },
  {
   "cell_type": "markdown",
   "metadata": {},
   "source": [
    "For a two particle system, a meaningful one-particle probability density can be obtained by the formula:\n",
    "$$\\rho_{1}(x_{i},t)=\\int_{-\\infty}^{+\\infty}d x_{j}\\,\\rho(x_{1},x_{2},t),\\ \\ (i\\neq j=1,2)$$\n",
    "It is important to check the conservation of total probability:"
   ]
  },
  {
   "cell_type": "code",
   "execution_count": 8,
   "metadata": {},
   "outputs": [
    {
     "data": {
      "image/png": "[encoded data removed]",
      "text/plain": [
       "<Figure size 432x288 with 1 Axes>"
      ]
     },
     "metadata": {
      "needs_background": "light"
     },
     "output_type": "display_data"
    }
   ],
   "source": [
    "import matplotlib.pyplot as plt\n",
    "\n",
    "plt.show()\n",
    "\n",
    "tot_prob = []\n",
    "for s in storage:\n",
    "    tot_prob.append(s.apply(lambda x: np.abs(x)**2).integral.real)\n",
    "\n",
    "plt.xlabel('$t_{saved}$')\n",
    "plt.ylabel('$|\\\\psi(x_1,x_2)|^2$')\n",
    "plt.title('Probability conservation')\n",
    "\n",
    "plt.plot(tot_prob)\n",
    "plt.show()"
   ]
  },
  {
   "cell_type": "code",
   "execution_count": 4,
   "metadata": {},
   "outputs": [
    {
     "data": {
      "image/png": "[encoded data removed]",
      "text/plain": [
       "<Figure size 432x288 with 1 Axes>"
      ]
     },
     "metadata": {
      "needs_background": "light"
     },
     "output_type": "display_data"
    }
   ],
   "source": [
    "import numpy as np\n",
    "import matplotlib.animation as animation\n",
    "\n",
    "x = np.arange(0,20,20/100)\n",
    "rho = np.abs(storage[0].data).T**2\n",
    "y = np.trapz(rho, x = np.arange(0,20,20/100))\n",
    "z = np.trapz(rho, x = np.arange(0,20,20/100), axis = 0)\n",
    "\n",
    "fig, ax = plt.subplots()\n",
    "line1, = ax.plot(x, y, color = \"r\")\n",
    "line2, = ax.plot(x, z, color = \"g\")\n",
    "\n",
    "time_text = ax.text(0.02, 0.95, '', transform=ax.transAxes)\n",
    "\n",
    "ax.set_title('$V(x_{1},x_{2}) = -V_0e^{-\\\\frac{|x_1 - x_2|^2}{\\\\alpha^2}}$')\n",
    "\n",
    "\n",
    "def update(num, x, y, z, line1, line2):\n",
    "    rho = np.abs(storage[num].data).T**2\n",
    "    rho1 = np.trapz(rho, x = np.arange(0,20,20/100))\n",
    "    rho2 = np.trapz(rho, x = np.arange(0,20,20/100), axis = 0)\n",
    "\n",
    "    time_text.set_text('t=' + str(num))\n",
    "\n",
    "    line1.set_data(x, rho1)\n",
    "    line2.set_data(x, rho2)\n",
    "    return [line1,line2]\n",
    "\n",
    "ani = animation.FuncAnimation(fig, update, len(tot_prob), fargs=[x, y, z, line1, line2],\n",
    "                  interval=295, blit=True)\n",
    "\n",
    "ax.set_xlabel('$x$')\n",
    "ax.set_ylabel('$\\\\rho(x_i)$')\n",
    "\n",
    "plt.show()\n",
    " \n",
    "writervideo = animation.FFMpegWriter(fps=60) \n",
    "ani.save('prob_densities.mp4', writer=writervideo, dpi=300)\n",
    "\n"
   ]
  },
  {
   "cell_type": "code",
   "execution_count": null,
   "metadata": {},
   "outputs": [],
   "source": []
  }
 ],
 "metadata": {
  "interpreter": {
   "hash": "31f2aee4e71d21fbe5cf8b01ff0e069b9275f58929596ceb00d14d90e3e16cd6"
  },
  "kernelspec": {
   "display_name": "Python 3.8.10 64-bit",
   "language": "python",
   "name": "python3"
  },
  "language_info": {
   "codemirror_mode": {
    "name": "ipython",
    "version": 3
   },
   "file_extension": ".py",
   "mimetype": "text/x-python",
   "name": "python",
   "nbconvert_exporter": "python",
   "pygments_lexer": "ipython3",
   "version": "3.8.10"
  },
  "orig_nbformat": 4
 },
 "nbformat": 4,
 "nbformat_minor": 2
}
